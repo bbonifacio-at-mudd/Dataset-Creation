{
 "cells": [
  {
   "cell_type": "code",
   "execution_count": 26,
   "id": "68b6d345",
   "metadata": {},
   "outputs": [],
   "source": [
    "import os\n",
    "import random\n",
    "from PIL import Image\n",
    "from tqdm import tqdm"
   ]
  },
  {
   "cell_type": "code",
   "execution_count": 27,
   "id": "9f451742",
   "metadata": {},
   "outputs": [],
   "source": [
    "def place_chip_on_background(chip_path, background_path, output_path, scale_factor=0.5):\n",
    "    # Load the chip and background images\n",
    "    chip = Image.open(chip_path).convert(\"RGBA\")\n",
    "    background = Image.open(background_path).convert(\"RGBA\")\n",
    "    \n",
    "    # Randomly rotate the chip\n",
    "    angle = random.randint(0, 359)\n",
    "    chip = chip.rotate(angle, expand=1)\n",
    "    \n",
    "    # Calculate new size for the chip, scaled by the given factor\n",
    "    chip_width, chip_height = chip.size\n",
    "    new_chip_size = (int(chip_width * scale_factor), int(chip_height * scale_factor))\n",
    "    chip = chip.resize(new_chip_size, Image.Resampling.LANCZOS)\n",
    "    \n",
    "    # Update chip dimensions after resizing\n",
    "    chip_width, chip_height = chip.size\n",
    "    \n",
    "    # Ensure the resized chip can fit into the background\n",
    "    bg_width, bg_height = background.size\n",
    "    if chip_width > bg_width or chip_height > bg_height:\n",
    "        raise ValueError(\"The resized chip is still too large for the background.\")\n",
    "    \n",
    "    # Randomly position the resized chip on the background\n",
    "    max_x, max_y = bg_width - chip_width, bg_height - chip_height\n",
    "    pos_x = random.randint(0, max_x)\n",
    "    pos_y = random.randint(0, max_y)\n",
    "    \n",
    "    # Extract the alpha channel from the chip as the transparency mask\n",
    "    mask = chip.split()[3]\n",
    "\n",
    "    # Paste the resized chip onto the background using the mask\n",
    "    background.paste(chip, (pos_x, pos_y), mask)\n",
    "    \n",
    "    # Save the combined image to the output path\n",
    "    background.save(output_path)"
   ]
  },
  {
   "cell_type": "code",
   "execution_count": 28,
   "id": "5968a88d",
   "metadata": {},
   "outputs": [],
   "source": [
    "def make_dataset(background_dir, chips_dir, output_dir, num_samples):\n",
    "    # Lists to hold the file paths for chips and backgrounds\n",
    "    chips = []\n",
    "    backgrounds = []\n",
    "\n",
    "    # Go through the backgrounds directory to collect background images\n",
    "    for background_file in os.listdir(background_dir):\n",
    "        backgrounds.append(os.path.join(background_dir, background_file))\n",
    "\n",
    "    # Go through all the subdirectories in the chips directory to collect chip images\n",
    "    for root, dirs, files in tqdm(os.walk(chips_dir), desc = \"Loading Chips\"):\n",
    "        for chip_file in files:\n",
    "            chips.append(os.path.join(root, chip_file))\n",
    "    \n",
    "    \n",
    "    for i in tqdm(range(num_samples), desc = \"Creating Dataset\"):\n",
    "        # Randomly select a chip and a background, and place the chip on the background\n",
    "        selected_chip = random.choice(chips)\n",
    "        selected_background = random.choice(backgrounds)\n",
    "\n",
    "        output_image_path = os.path.join(output_dir, f\"{i}.png\")\n",
    "\n",
    "        # Place the chip on the background\n",
    "        place_chip_on_background(selected_chip, selected_background, output_image_path)\n",
    "\n",
    "    "
   ]
  },
  {
   "cell_type": "code",
   "execution_count": 29,
   "id": "077e5f38",
   "metadata": {
    "scrolled": false
   },
   "outputs": [
    {
     "name": "stderr",
     "output_type": "stream",
     "text": [
      "Loading Chips: 1it [00:00, 7584.64it/s]\n",
      "Creating Dataset:   3%|█▋                                                             | 13/500 [00:00<00:19, 25.28it/s]\n"
     ]
    },
    {
     "ename": "ValueError",
     "evalue": "The resized chip is still too large for the background.",
     "output_type": "error",
     "traceback": [
      "\u001b[1;31m---------------------------------------------------------------------------\u001b[0m",
      "\u001b[1;31mValueError\u001b[0m                                Traceback (most recent call last)",
      "\u001b[1;32m~\\AppData\\Local\\Temp\\ipykernel_27588\\3201872194.py\u001b[0m in \u001b[0;36m<module>\u001b[1;34m\u001b[0m\n\u001b[0;32m      5\u001b[0m \u001b[1;33m\u001b[0m\u001b[0m\n\u001b[0;32m      6\u001b[0m \u001b[1;33m\u001b[0m\u001b[0m\n\u001b[1;32m----> 7\u001b[1;33m \u001b[0mmake_dataset\u001b[0m\u001b[1;33m(\u001b[0m\u001b[0mbackground_dir\u001b[0m\u001b[1;33m,\u001b[0m \u001b[0mchips_dir\u001b[0m\u001b[1;33m,\u001b[0m \u001b[0moutput_dir\u001b[0m\u001b[1;33m,\u001b[0m \u001b[0mnum_samples\u001b[0m\u001b[1;33m)\u001b[0m\u001b[1;33m\u001b[0m\u001b[1;33m\u001b[0m\u001b[0m\n\u001b[0m",
      "\u001b[1;32m~\\AppData\\Local\\Temp\\ipykernel_27588\\764540651.py\u001b[0m in \u001b[0;36mmake_dataset\u001b[1;34m(background_dir, chips_dir, output_dir, num_samples)\u001b[0m\n\u001b[0;32m     22\u001b[0m \u001b[1;33m\u001b[0m\u001b[0m\n\u001b[0;32m     23\u001b[0m         \u001b[1;31m# Place the chip on the background\u001b[0m\u001b[1;33m\u001b[0m\u001b[1;33m\u001b[0m\u001b[0m\n\u001b[1;32m---> 24\u001b[1;33m         \u001b[0mplace_chip_on_background\u001b[0m\u001b[1;33m(\u001b[0m\u001b[0mselected_chip\u001b[0m\u001b[1;33m,\u001b[0m \u001b[0mselected_background\u001b[0m\u001b[1;33m,\u001b[0m \u001b[0moutput_image_path\u001b[0m\u001b[1;33m)\u001b[0m\u001b[1;33m\u001b[0m\u001b[1;33m\u001b[0m\u001b[0m\n\u001b[0m\u001b[0;32m     25\u001b[0m \u001b[1;33m\u001b[0m\u001b[0m\n\u001b[0;32m     26\u001b[0m \u001b[1;33m\u001b[0m\u001b[0m\n",
      "\u001b[1;32m~\\AppData\\Local\\Temp\\ipykernel_27588\\352391066.py\u001b[0m in \u001b[0;36mplace_chip_on_background\u001b[1;34m(chip_path, background_path, output_path, scale_factor)\u001b[0m\n\u001b[0;32m     19\u001b[0m     \u001b[0mbg_width\u001b[0m\u001b[1;33m,\u001b[0m \u001b[0mbg_height\u001b[0m \u001b[1;33m=\u001b[0m \u001b[0mbackground\u001b[0m\u001b[1;33m.\u001b[0m\u001b[0msize\u001b[0m\u001b[1;33m\u001b[0m\u001b[1;33m\u001b[0m\u001b[0m\n\u001b[0;32m     20\u001b[0m     \u001b[1;32mif\u001b[0m \u001b[0mchip_width\u001b[0m \u001b[1;33m>\u001b[0m \u001b[0mbg_width\u001b[0m \u001b[1;32mor\u001b[0m \u001b[0mchip_height\u001b[0m \u001b[1;33m>\u001b[0m \u001b[0mbg_height\u001b[0m\u001b[1;33m:\u001b[0m\u001b[1;33m\u001b[0m\u001b[1;33m\u001b[0m\u001b[0m\n\u001b[1;32m---> 21\u001b[1;33m         \u001b[1;32mraise\u001b[0m \u001b[0mValueError\u001b[0m\u001b[1;33m(\u001b[0m\u001b[1;34m\"The resized chip is still too large for the background.\"\u001b[0m\u001b[1;33m)\u001b[0m\u001b[1;33m\u001b[0m\u001b[1;33m\u001b[0m\u001b[0m\n\u001b[0m\u001b[0;32m     22\u001b[0m \u001b[1;33m\u001b[0m\u001b[0m\n\u001b[0;32m     23\u001b[0m     \u001b[1;31m# Randomly position the resized chip on the background\u001b[0m\u001b[1;33m\u001b[0m\u001b[1;33m\u001b[0m\u001b[0m\n",
      "\u001b[1;31mValueError\u001b[0m: The resized chip is still too large for the background."
     ]
    }
   ],
   "source": [
    "background_dir = \"../Backgrounds\"\n",
    "chips_dir = \"../Chips/CroppedChips\"\n",
    "output_dir = \"../Dataset/AllChips/Singletons\"\n",
    "num_samples = 500\n",
    "\n",
    "\n",
    "make_dataset(background_dir, chips_dir, output_dir, num_samples)"
   ]
  },
  {
   "cell_type": "code",
   "execution_count": null,
   "id": "25479da8",
   "metadata": {},
   "outputs": [],
   "source": []
  }
 ],
 "metadata": {
  "kernelspec": {
   "display_name": "Python 3 (ipykernel)",
   "language": "python",
   "name": "python3"
  },
  "language_info": {
   "codemirror_mode": {
    "name": "ipython",
    "version": 3
   },
   "file_extension": ".py",
   "mimetype": "text/x-python",
   "name": "python",
   "nbconvert_exporter": "python",
   "pygments_lexer": "ipython3",
   "version": "3.9.13"
  }
 },
 "nbformat": 4,
 "nbformat_minor": 5
}
