{
 "cells": [
  {
   "cell_type": "code",
   "execution_count": 34,
   "id": "68b6d345",
   "metadata": {},
   "outputs": [],
   "source": [
    "import os\n",
    "import random\n",
    "from PIL import Image\n",
    "from tqdm import tqdm"
   ]
  },
  {
   "cell_type": "code",
   "execution_count": 35,
   "id": "9f451742",
   "metadata": {},
   "outputs": [],
   "source": [
    "def place_chip_on_background(chip_path, background_path, output_path):\n",
    "    # Load the chip and background images\n",
    "    chip = Image.open(chip_path).convert(\"RGBA\")\n",
    "    background = Image.open(background_path).convert(\"RGBA\")\n",
    "\n",
    "    # Randomly rotate the chip\n",
    "    angle = random.randint(0, 359)\n",
    "    chip = chip.rotate(angle, expand=1)\n",
    "\n",
    "    # Background dimensions\n",
    "    bg_width, bg_height = background.size\n",
    "\n",
    "    # Determine a random scale factor based on the background width\n",
    "    scale_factor = random.uniform(0.1, 0.3)\n",
    "    new_chip_width = int(bg_width * scale_factor)\n",
    "\n",
    "    # Calculate new height to maintain aspect ratio\n",
    "    chip_aspect_ratio = chip.width / chip.height\n",
    "    new_chip_height = int(new_chip_width / chip_aspect_ratio)\n",
    "\n",
    "    # Resize the chip\n",
    "    chip = chip.resize((new_chip_width, new_chip_height), Image.Resampling.LANCZOS)\n",
    "\n",
    "    # Ensure the resized chip can fit into the background\n",
    "    if new_chip_width > bg_width or new_chip_height > bg_height:\n",
    "        raise ValueError(\"The resized chip is too large for the background.\")\n",
    "\n",
    "    # Randomly position the resized chip on the background\n",
    "    max_x, max_y = bg_width - new_chip_width, bg_height - new_chip_height\n",
    "    pos_x = random.randint(0, max_x)\n",
    "    pos_y = random.randint(0, max_y)\n",
    "\n",
    "    # Extract the alpha channel from the chip as the transparency mask\n",
    "    mask = chip.split()[3]\n",
    "\n",
    "    # Paste the resized chip onto the background using the mask\n",
    "    background.paste(chip, (pos_x, pos_y), mask)\n",
    "\n",
    "    # Save the combined image to the output path\n",
    "    background.save(output_path)"
   ]
  },
  {
   "cell_type": "code",
   "execution_count": 36,
   "id": "5968a88d",
   "metadata": {},
   "outputs": [],
   "source": [
    "def make_dataset(background_dir, chips_dir, output_dir, num_samples):\n",
    "    # Lists to hold the file paths for chips and backgrounds\n",
    "    chips = []\n",
    "    backgrounds = []\n",
    "\n",
    "    # Go through the backgrounds directory to collect background images\n",
    "    for background_file in os.listdir(background_dir):\n",
    "        backgrounds.append(os.path.join(background_dir, background_file))\n",
    "\n",
    "    # Go through all the subdirectories in the chips directory to collect chip images\n",
    "    for root, dirs, files in tqdm(os.walk(chips_dir), desc = \"Loading Chips\"):\n",
    "        for chip_file in files:\n",
    "            chips.append(os.path.join(root, chip_file))\n",
    "    \n",
    "    \n",
    "    for i in tqdm(range(num_samples), desc = \"Creating Dataset\"):\n",
    "        # Randomly select a chip and a background, and place the chip on the background\n",
    "        selected_chip = random.choice(chips)\n",
    "        selected_background = random.choice(backgrounds)\n",
    "\n",
    "        output_image_path = os.path.join(output_dir, f\"{i}.png\")\n",
    "\n",
    "        # Place the chip on the background\n",
    "        place_chip_on_background(selected_chip, selected_background, output_image_path)\n",
    "\n",
    "    "
   ]
  },
  {
   "cell_type": "code",
   "execution_count": 37,
   "id": "077e5f38",
   "metadata": {
    "scrolled": false
   },
   "outputs": [
    {
     "name": "stderr",
     "output_type": "stream",
     "text": [
      "Loading Chips: 1it [00:00, 434.46it/s]\n",
      "Creating Dataset: 100%|██████████████████████████████████████████████████████████████| 500/500 [00:17<00:00, 28.80it/s]\n"
     ]
    }
   ],
   "source": [
    "background_dir = \"../Backgrounds\"\n",
    "chips_dir = \"../Chips/CroppedChips\"\n",
    "output_dir = \"../Dataset/AllChips/Singletons\"\n",
    "num_samples = 500\n",
    "\n",
    "\n",
    "make_dataset(background_dir, chips_dir, output_dir, num_samples)"
   ]
  },
  {
   "cell_type": "code",
   "execution_count": null,
   "id": "25479da8",
   "metadata": {},
   "outputs": [],
   "source": []
  }
 ],
 "metadata": {
  "kernelspec": {
   "display_name": "Python 3 (ipykernel)",
   "language": "python",
   "name": "python3"
  },
  "language_info": {
   "codemirror_mode": {
    "name": "ipython",
    "version": 3
   },
   "file_extension": ".py",
   "mimetype": "text/x-python",
   "name": "python",
   "nbconvert_exporter": "python",
   "pygments_lexer": "ipython3",
   "version": "3.9.13"
  }
 },
 "nbformat": 4,
 "nbformat_minor": 5
}
