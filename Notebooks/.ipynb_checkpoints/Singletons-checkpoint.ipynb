{
 "cells": [
  {
   "cell_type": "code",
   "execution_count": 2,
   "id": "68b6d345",
   "metadata": {},
   "outputs": [],
   "source": [
    "import os\n",
    "import random\n",
    "from PIL import Image\n",
    "from tqdm import tqdm"
   ]
  },
  {
   "cell_type": "code",
   "execution_count": 9,
   "id": "9f451742",
   "metadata": {},
   "outputs": [],
   "source": [
    "# Function to place a single chip on a random background with random position and rotation\n",
    "def place_chip_on_background(chip_path, background_path, output_path):\n",
    "    # Load the chip and background images\n",
    "    chip = Image.open(chip_path).convert(\"RGBA\")\n",
    "    background = Image.open(background_path).convert(\"RGBA\")\n",
    "    \n",
    "    # Randomly rotate the chip\n",
    "    angle = random.randint(0, 359)\n",
    "    chip = chip.rotate(angle, expand=1)\n",
    "    \n",
    "    # Ensure the chip can fit into the background\n",
    "    bg_width, bg_height = background.size\n",
    "    chip_width, chip_height = chip.size\n",
    "    if chip_width > bg_width or chip_height > bg_height:\n",
    "        # Resize the chip if it's larger than the background\n",
    "        chip.thumbnail((bg_width, bg_height))\n",
    "        chip_width, chip_height = chip.size\n",
    "    \n",
    "    max_x, max_y = bg_width - chip_width, bg_height - chip_height\n",
    "    # Randomly position the chip on the background\n",
    "    pos_x = random.randint(0, max_x)\n",
    "    pos_y = random.randint(0, max_y)\n",
    "    \n",
    "    # Extract the alpha channel from the chip as the transparency mask\n",
    "    mask = chip.split()[3].convert(\"L\")\n",
    "\n",
    "    # Paste the chip onto the background using the mask\n",
    "    background.paste(chip, (pos_x, pos_y), mask)\n",
    "    \n",
    "    # Save the combined image to the output path\n",
    "    background.save(output_path)"
   ]
  },
  {
   "cell_type": "code",
   "execution_count": 10,
   "id": "5968a88d",
   "metadata": {},
   "outputs": [],
   "source": [
    "def make_dataset(background_dir, chips_dir, output_dir, num_samples):\n",
    "    # Lists to hold the file paths for chips and backgrounds\n",
    "    chips = []\n",
    "    backgrounds = []\n",
    "\n",
    "    # Go through the backgrounds directory to collect background images\n",
    "    for background_file in os.listdir(background_dir):\n",
    "        backgrounds.append(os.path.join(background_dir, background_file))\n",
    "\n",
    "    # Go through all the subdirectories in the chips directory to collect chip images\n",
    "    for root, dirs, files in tqdm(os.walk(chips_dir), desc = \"Loading Chips\"):\n",
    "        for chip_file in files:\n",
    "            chips.append(os.path.join(root, chip_file))\n",
    "    \n",
    "    \n",
    "    for i in tqdm(range(num_samples), desc = \"Creating Dataset\"):\n",
    "        # Randomly select a chip and a background, and place the chip on the background\n",
    "        selected_chip = random.choice(chips)\n",
    "        selected_background = random.choice(backgrounds)\n",
    "\n",
    "        output_image_path = os.path.join(output_dir, f\"{i}.png\")\n",
    "\n",
    "        # Place the chip on the background\n",
    "        place_chip_on_background(selected_chip, selected_background, output_image_path)\n",
    "\n",
    "    "
   ]
  },
  {
   "cell_type": "code",
   "execution_count": 11,
   "id": "077e5f38",
   "metadata": {},
   "outputs": [
    {
     "name": "stderr",
     "output_type": "stream",
     "text": [
      "Loading Chips: 17it [00:00, 4935.84it/s]\n",
      "Creating Dataset: 100%|██████████████████████████████████████████████████████████████████| 5/5 [00:00<00:00, 11.01it/s]\n"
     ]
    }
   ],
   "source": [
    "background_dir = \"../Backgrounds\"\n",
    "chips_dir = \"../Chips/CroppedChips\"\n",
    "output_dir = \"../Dataset/AllChips/Singletons\"\n",
    "num_samples = 5\n",
    "\n",
    "\n",
    "make_dataset(background_dir, chips_dir, output_dir, num_samples)"
   ]
  },
  {
   "cell_type": "code",
   "execution_count": null,
   "id": "25479da8",
   "metadata": {},
   "outputs": [],
   "source": []
  }
 ],
 "metadata": {
  "kernelspec": {
   "display_name": "Python 3 (ipykernel)",
   "language": "python",
   "name": "python3"
  },
  "language_info": {
   "codemirror_mode": {
    "name": "ipython",
    "version": 3
   },
   "file_extension": ".py",
   "mimetype": "text/x-python",
   "name": "python",
   "nbconvert_exporter": "python",
   "pygments_lexer": "ipython3",
   "version": "3.9.13"
  }
 },
 "nbformat": 4,
 "nbformat_minor": 5
}
