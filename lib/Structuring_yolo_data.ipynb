{
 "cells": [
  {
   "cell_type": "code",
   "execution_count": 5,
   "id": "7121a34f-41ce-431d-ab0f-ba3c0087d6d7",
   "metadata": {},
   "outputs": [],
   "source": [
    "import pandas as pd\n",
    "import os\n",
    "import yaml\n",
    "\n",
    "# Load the CSV file\n",
    "df = pd.read_csv('../Dataset/tiny_yolo_test/truth_data.csv')\n",
    "\n",
    "# Directory setup:\n",
    "image_dir = '../Dataset/tiny_yolo_test/images'\n",
    "label_dir = '../Dataset/tiny_yolo_test/labels'\n",
    "\n",
    "# Create directories if they don't exist\n",
    "os.makedirs(image_dir, exist_ok=True)\n",
    "os.makedirs(label_dir, exist_ok=True)\n",
    "\n",
    "# Process the CSV and write to text files\n",
    "for _, row in df.iterrows():\n",
    "    # Split the annotation string by ';' and pair the values for each bounding box\n",
    "    x_centers = list(map(float, row['x_centers'].split(';')))\n",
    "    y_centers = list(map(float, row['y_centers'].split(';')))\n",
    "    widths = list(map(float, row['widths'].split(';')))\n",
    "    heights = list(map(float, row['heights'].split(';')))\n",
    "    \n",
    "    # Construct the label filename\n",
    "    label_filename = f\"{label_dir}/{row['image_name'].replace('.png', '.txt')}\"\n",
    "    \n",
    "    # Write the labels to the file\n",
    "    with open(label_filename, 'w') as file:\n",
    "        for x_center, y_center, width, height in zip(x_centers, y_centers, widths, heights):\n",
    "            # Here we assume class index is 0, change if you have multiple classes\n",
    "            file.write(f\"0 {x_center} {y_center} {width} {height}\\n\")\n",
    "\n",
    "# Create the data.yaml file for YOLOv5\n",
    "data_yaml = {\n",
    "    'train': image_dir,\n",
    "    'val': image_dir,\n",
    "    'nc': 1,\n",
    "    'names': ['class_name']  # Replace with your actual class names\n",
    "}\n",
    "\n",
    "# Save the data.yaml file\n",
    "with open('data.yaml', 'w') as file:\n",
    "    documents = yaml.dump(data_yaml, file)\n"
   ]
  },
  {
   "cell_type": "code",
   "execution_count": null,
   "id": "f5226212-4d08-4369-9e72-da475737da0c",
   "metadata": {},
   "outputs": [],
   "source": []
  }
 ],
 "metadata": {
  "kernelspec": {
   "display_name": "Python 3 (ipykernel)",
   "language": "python",
   "name": "python3"
  },
  "language_info": {
   "codemirror_mode": {
    "name": "ipython",
    "version": 3
   },
   "file_extension": ".py",
   "mimetype": "text/x-python",
   "name": "python",
   "nbconvert_exporter": "python",
   "pygments_lexer": "ipython3",
   "version": "3.11.1"
  }
 },
 "nbformat": 4,
 "nbformat_minor": 5
}
