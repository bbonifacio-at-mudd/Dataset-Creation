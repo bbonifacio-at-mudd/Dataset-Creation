{
 "cells": [
  {
   "cell_type": "markdown",
   "id": "2a8cc3c2-1e5a-4456-b0a1-6183473e98fd",
   "metadata": {},
   "source": [
    "## In this jupyter notebook, we are going to augment our blackjack table dataset so that we have more images. \n",
    "\n",
    "### Goal: Get 400 Blackjack Table images Then, get 600 other background images (non-blackjack).  Run chip placing algorithm + truth tables, push to the github. \n",
    "\n",
    "\n",
    "### Below are the properties of an image we can change:\r\n"
   ]
  },
  {
   "cell_type": "markdown",
   "id": "ecbebe3b-8134-4fc4-9a68-a1705c10f398",
   "metadata": {},
   "source": [
    "- Hue (color shift, measured by angle on the color wheel)\n",
    "- Saturation (% purity of the color vs. gray)\n",
    "- Value (brightness/intensity of color, like a total brightness)\n",
    "- Contrast (difference between brightest and darkest parts of an image, like a relative brightness) \n",
    "- Quantization (# of colors, or color complexity, in the image)"
   ]
  },
  {
   "cell_type": "markdown",
   "id": "e07c93eb-b09f-4cff-9af3-b732368b6c53",
   "metadata": {},
   "source": [
    "The different ways that we can adjust these are as follows:\n",
    "\n",
    "- OpenCV: converting an image to HSV color space lets us adjust Hue, Saturation, and Value easily, and we can adjust Qshift with k-means clustering. Contrast is a little harder but doable. \n",
    "- Pytorch Colorjitter: one-line adjustment for hue, saturation, value, and contrast. No easy adjustment for Qshift\n",
    "\n",
    "Other solutions weren't nearly as good as OpenCV or Pytorch. \n",
    "\n",
    "Because of this, let's use OpenCV instead of Pytorch Colorjitter."
   ]
  },
  {
   "cell_type": "markdown",
   "id": "a054bf51-7375-4902-8f2e-a175dbb337af",
   "metadata": {},
   "source": [
    "Things we do NOT want to shift:\n",
    "\n",
    "1. Rotation angle.\n",
    "2. Random croppings\n",
    "3. Other qualtiies that would make the image not resemble a blackjack table."
   ]
  },
  {
   "cell_type": "code",
   "execution_count": 44,
   "id": "ee121212",
   "metadata": {},
   "outputs": [],
   "source": [
    "import cv2\n",
    "import numpy as np\n",
    "import os\n",
    "from PIL import Image\n",
    "from torchvision import transforms"
   ]
  },
  {
   "cell_type": "code",
   "execution_count": 83,
   "id": "27d465bf-8127-433d-b4ef-d7eb05cfacc4",
   "metadata": {},
   "outputs": [],
   "source": [
    "def adjust_hsv(image, hue_shift=0, saturation_scale=1.0, value_scale=1.0):\n",
    "    hsv_image = cv2.cvtColor(image, cv2.COLOR_BGR2HSV)\n",
    "    hsv_image[:, :, 0] = (hsv_image[:, :, 0] + hue_shift) % 180\n",
    "    hsv_image[:, :, 1] = np.clip(hsv_image[:, :, 1] * saturation_scale, 0, 255)\n",
    "    hsv_image[:, :, 2] = np.clip(hsv_image[:, :, 2] * value_scale, 0, 255)\n",
    "    return cv2.cvtColor(hsv_image, cv2.COLOR_HSV2BGR)\n",
    "\n",
    "def apply_quantization(image, k=8):\n",
    "    Z = image.reshape((-1, 3))\n",
    "    Z = np.float32(Z)\n",
    "    criteria = (cv2.TERM_CRITERIA_EPS + cv2.TERM_CRITERIA_MAX_ITER, 10, 1.0)\n",
    "    _, labels, center = cv2.kmeans(Z, k, None, criteria, 10, cv2.KMEANS_RANDOM_CENTERS)\n",
    "    center = np.uint8(center)\n",
    "    res = center[labels.flatten()]\n",
    "    return res.reshape((image.shape))\n",
    "\n",
    "def adjust_contrast(image, factor=1.0):\n",
    "    # Adjust contrast; factor > 1.0 increases contrast, factor < 1.0 decreases contrast\n",
    "    pil_img = Image.fromarray(cv2.cvtColor(image, cv2.COLOR_BGR2RGB))\n",
    "    enhancer = ImageEnhance.Contrast(pil_img)\n",
    "    img_contrasted = enhancer.enhance(factor)\n",
    "    return cv2.cvtColor(np.array(img_contrasted), cv2.COLOR_RGB2BGR)\n",
    "\n",
    "def process_chips(chips_dir, output_dir, aug_settings):\n",
    "    for root, dirs, files in os.walk(chips_dir):\n",
    "        for file in tqdm(files):\n",
    "            if file.endswith(('.png', '.jpg', '.jpeg')):\n",
    "                file_path = os.path.join(root, file)\n",
    "\n",
    "                for i in range(aug_settings[\"image_copies\"]):\n",
    "                    # For each simple image, make image_copy copies, e.g. for the best we make 30\n",
    "                    image = cv2.imread(file_path)\n",
    "                    \n",
    "                    # Apply HSV adjustments if enabled\n",
    "                    if aug_settings.get(\"hue\"):\n",
    "                        image = adjust_hsv(image, hue_shift=np.random.uniform(*aug_settings[\"hue_vals\"]))\n",
    "                    if aug_settings.get(\"saturation\"):\n",
    "                        image = adjust_hsv(image, saturation_scale=np.random.uniform(*aug_settings[\"sat_vals\"]))\n",
    "                    if aug_settings.get(\"value/brightness\"):\n",
    "                        image = adjust_hsv(image, value_scale=np.random.uniform(*aug_settings[\"value_vals\"]))\n",
    "                    \n",
    "                    # Apply contrast adjustment if enabled\n",
    "                    if aug_settings.get(\"contrast\"):\n",
    "                        image = adjust_contrast(image, factor=np.random.uniform(*aug_settings[\"contrast_vals\"]))\n",
    "    \n",
    "                    # Apply quantization if enabled, selecting a random k within the specified range\n",
    "                    if aug_settings.get(\"quantization\"):\n",
    "                        k = random.randint(*aug_settings[\"quantization_vals\"])\n",
    "                        image = apply_quantization(image, k=k)\n",
    "    \n",
    "                    os.makedirs(output_dir, exist_ok=True)\n",
    "                    save_path = os.path.join(output_dir, file[:-4] + str(i) + aug_settings[\"extra_file_name\"])\n",
    "                    cv2.imwrite(save_path, image)"
   ]
  },
  {
   "cell_type": "code",
   "execution_count": 88,
   "id": "09fc5a61-e3bd-4f1b-8573-c314a6a64eab",
   "metadata": {},
   "outputs": [
    {
     "name": "stderr",
     "output_type": "stream",
     "text": [
      "100%|██████████████████████████████████████████████████████████████████████████████████| 23/23 [00:13<00:00,  1.68it/s]"
     ]
    },
    {
     "name": "stdout",
     "output_type": "stream",
     "text": [
      "Done\n"
     ]
    },
    {
     "name": "stderr",
     "output_type": "stream",
     "text": [
      "\n"
     ]
    }
   ],
   "source": [
    "aug_settings = {\n",
    "    \"hue\": True, \n",
    "    \"hue_vals\": (-7, 7), \n",
    "    \"saturation\": True, \n",
    "    \"sat_vals\": (0.3, 1.7),\n",
    "    \"value/brightness\": True,\n",
    "    \"value_vals\": (0.6, 1.4),\n",
    "    \"contrast\": True,\n",
    "    \"contrast_vals\": (0.5, 1.5),\n",
    "    \"quantization\": True,\n",
    "    \"quantization_vals\": (5, 12),\n",
    "    \"image_copies\": 2, \n",
    "    \"extra_file_name\": \"2.jpg\"\n",
    "}\n",
    "\n",
    "chips_dir = '../Backgrounds/Blackjack_Esque_Environment'\n",
    "output_dir = '../Backgrounds/Aug_Blackjack2/Other'\n",
    "process_chips(chips_dir, output_dir, aug_settings)\n",
    "print(\"Done\")"
   ]
  },
  {
   "cell_type": "code",
   "execution_count": 30,
   "id": "d12601c4",
   "metadata": {},
   "outputs": [],
   "source": [
    "extra_val = 0"
   ]
  },
  {
   "cell_type": "code",
   "execution_count": null,
   "id": "a1dc3796",
   "metadata": {},
   "outputs": [],
   "source": []
  },
  {
   "cell_type": "code",
   "execution_count": null,
   "id": "e0122aa0",
   "metadata": {},
   "outputs": [],
   "source": []
  },
  {
   "cell_type": "code",
   "execution_count": null,
   "id": "72d86ed0",
   "metadata": {},
   "outputs": [],
   "source": []
  },
  {
   "cell_type": "code",
   "execution_count": null,
   "id": "b21b5355-3787-4549-93c3-617569ec8d5f",
   "metadata": {},
   "outputs": [],
   "source": []
  },
  {
   "cell_type": "code",
   "execution_count": 42,
   "id": "31540773-f109-423c-8354-0f15939d413c",
   "metadata": {},
   "outputs": [],
   "source": []
  }
 ],
 "metadata": {
  "kernelspec": {
   "display_name": "Python 3 (ipykernel)",
   "language": "python",
   "name": "python3"
  },
  "language_info": {
   "codemirror_mode": {
    "name": "ipython",
    "version": 3
   },
   "file_extension": ".py",
   "mimetype": "text/x-python",
   "name": "python",
   "nbconvert_exporter": "python",
   "pygments_lexer": "ipython3",
   "version": "3.11.1"
  }
 },
 "nbformat": 4,
 "nbformat_minor": 5
}
