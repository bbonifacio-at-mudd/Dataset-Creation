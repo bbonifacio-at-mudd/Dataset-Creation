{
 "cells": [
  {
   "cell_type": "code",
   "execution_count": 1,
   "id": "ee121212",
   "metadata": {},
   "outputs": [],
   "source": [
    "import os\n",
    "import cv2\n",
    "import numpy as np\n",
    "from PIL import Image, ImageDraw\n",
    "from tqdm import tqdm"
   ]
  },
  {
   "cell_type": "code",
   "execution_count": 2,
   "id": "d12601c4",
   "metadata": {},
   "outputs": [],
   "source": [
    "# Function to perform a circular crop on an image\n",
    "def circular_crop(image_path):\n",
    "    # Load image\n",
    "    image = Image.open(image_path)\n",
    "    image = image.convert(\"RGBA\")  # Convert to RGBA if necessary\n",
    "    \n",
    "    # Assuming the chip is centered in the image, find the largest circle\n",
    "    # The circle's center is the image center and the radius is half of the shortest dimension of the image\n",
    "    width, height = image.size\n",
    "    center = (int(width / 2), int(height / 2))\n",
    "    radius = int(0.97 * min(center[0], center[1], width - center[0], height - center[1]))\n",
    "    \n",
    "    # Create a mask for the circular crop\n",
    "    mask = Image.new('L', (width, height), 0)\n",
    "    draw = ImageDraw.Draw(mask) \n",
    "    draw.pieslice([center[0] - radius, center[1] - radius, center[0] + radius, center[1] + radius], 0, 360, fill=255)\n",
    "    \n",
    "    # Apply the circular mask to the image\n",
    "    result = Image.composite(image, Image.new('RGBA', image.size, (0, 0, 0, 0)), mask)\n",
    "    \n",
    "    return result"
   ]
  },
  {
   "cell_type": "code",
   "execution_count": 3,
   "id": "a1dc3796",
   "metadata": {},
   "outputs": [],
   "source": [
    "def process_chips(chips_dir, output_dir):\n",
    "    # Recursively go through all files in the chips directory\n",
    "    cur_folder = 0\n",
    "    for root, dirs, files in os.walk(chips_dir):\n",
    "        print\n",
    "        for file in files:\n",
    "            if file.endswith(('.png', '.jpg', '.jpeg')):\n",
    "                file_path = os.path.join(root, file)\n",
    "                cropped_image = circular_crop(file_path)\n",
    "\n",
    "                #Don't worry about original file structure - just mass transfer\n",
    "                os.makedirs(output_dir, exist_ok=True)\n",
    "\n",
    "                # Save the cropped image as PNG to maintain transparency\n",
    "                save_path = os.path.join(output_dir, os.path.splitext(file)[0] + '.png')  # Change file extension to .png\n",
    "                cropped_image.save(save_path, 'PNG')"
   ]
  },
  {
   "cell_type": "code",
   "execution_count": 62,
   "id": "e0122aa0",
   "metadata": {},
   "outputs": [
    {
     "name": "stderr",
     "output_type": "stream",
     "text": [
      "Processing Images: 17it [00:03,  4.80it/s]\n"
     ]
    }
   ],
   "source": [
    "chips_dir = '../Chips/UncroppedChips'  # Replace with your actual path\n",
    "output_dir = '../Chips/CroppedChips'  # Replace with your actual path\n",
    "process_chips(chips_dir, output_dir)\n"
   ]
  },
  {
   "cell_type": "code",
   "execution_count": null,
   "id": "72d86ed0",
   "metadata": {},
   "outputs": [],
   "source": []
  }
 ],
 "metadata": {
  "kernelspec": {
   "display_name": "Python 3 (ipykernel)",
   "language": "python",
   "name": "python3"
  },
  "language_info": {
   "codemirror_mode": {
    "name": "ipython",
    "version": 3
   },
   "file_extension": ".py",
   "mimetype": "text/x-python",
   "name": "python",
   "nbconvert_exporter": "python",
   "pygments_lexer": "ipython3",
   "version": "3.9.13"
  }
 },
 "nbformat": 4,
 "nbformat_minor": 5
}
