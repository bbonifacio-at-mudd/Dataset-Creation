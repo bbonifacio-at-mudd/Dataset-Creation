{
 "cells": [
  {
   "cell_type": "markdown",
   "id": "0117a5f8",
   "metadata": {},
   "source": [
    "# This Notebook controls the creation of datasets"
   ]
  },
  {
   "cell_type": "markdown",
   "id": "a19e7d7e",
   "metadata": {},
   "source": [
    "### The settings for the creation of the dataset are given in a dictionary below"
   ]
  },
  {
   "cell_type": "code",
   "execution_count": 1,
   "id": "0e58f39f",
   "metadata": {},
   "outputs": [],
   "source": [
    "settings = {\n",
    "    \n",
    "    # data settings control the data used in the creation of the dataset\n",
    "    \"data\": {\n",
    "        \n",
    "        # \"background\" controls which dataset is used for the background images\n",
    "        # Supported background options:\n",
    "            # \"random\": the dataset of random images\n",
    "            # \"table\": the dataset of table tops\n",
    "        \"background\": \"random\", \n",
    "        \n",
    "        # \"chips\" controls which dataset is used for tthe chip images\n",
    "        # Supported chips options:\n",
    "            # \"all\": all the circle-cropped chips\n",
    "            # \"post2020\": all the non-deprecated chips that have been introduced post-2020\n",
    "        \"chips\": \"all\"\n",
    "    },\n",
    "        \n",
    "    # Placement settings control how the chips on the dataset are placed on the images\n",
    "    \"placement\": {\n",
    "        \n",
    "        # \"type\" is the type of dataset created\n",
    "        # Supported type options:\n",
    "            # \"singleton\": a single chip on the margin, guaranteed to not be cut off by the background margins\n",
    "            # \"multiple\": multiple chips on the image, guaranteed to not be cut off by the background margins\n",
    "            # \"stacked\": ??? - Ask George/Sam\n",
    "            # \"overlaid\": ??? - Ask George/Sam\n",
    "        \"type\": \"singleton\",\n",
    "        \n",
    "        \n",
    "        \n",
    "        # Below, the settings for each placement type are defined. You only need to define the settings for the placement \n",
    "        # type you are using. e.g., you only need to define the \"singleton\" settings if the \"type\" is \"singleton\". \n",
    "        # Having other types defined do not affect the program - they will be ignored. \n",
    "        \n",
    "        # \"singleton_settings\" are settings for making a \"singleton\" dataset\n",
    "        \"singleton_settings\": {\n",
    "            \n",
    "            # \"random_rotation\": Boolean for whether to rotate the chips or not\n",
    "            \"random_rotation\": True, \n",
    "            \n",
    "            # \"size_range\": Tuple for how big we want the chip with respect to the image's width. It is a proportion. \n",
    "            # The first value in the Tuple is the lower range, the second is the upper range. Sizes are chosen based on \n",
    "            # a uniform distribution between these two ranges. \n",
    "            \"size_range\": (0.1, 0.3), \n",
    "        }, \n",
    "        \n",
    "        # \"multiple_settings\" are settings used for making a \"multiple\" dataset\n",
    "        \"multiple_settings\": {\n",
    "            \n",
    "            # \"random_rotation\": Boolean for whether to rotate the chips or not\n",
    "            \"random_rotation\": True, \n",
    "            \n",
    "            # \"size_range\": Tuple for how big the chips are, see \"singleton_settings\"[\"size_range\"]\n",
    "            \"size_range\": (0.1, 0.3), \n",
    "            \n",
    "            # \"chip_range\": Tuple for how many chips there will be. It is an integer. The first value is the lower value, \n",
    "            # the second value is the upper value. Number of chips are chosen based on a uniform distribution\n",
    "            \"chip_range\": (2, 10), \n",
    "            \n",
    "            # \"overlap\": Boolean for whether you want the chips to overlap or not. As a note, chips will be placed on the \n",
    "            # background such that the biggest chips are behind smaller chips (as not to fully obstruct small chips).\n",
    "            # However, this does not guarantee that all chips will be visible (multiple chips could cover one chip)\n",
    "            \"overlap\": False, \n",
    "        }, \n",
    "        \n",
    "        # \"stacked_settings\": Unsupported\n",
    "        \"stacked_settings\": None,\n",
    "        \n",
    "        # \"overlaid_settings\": Unsupported\n",
    "        \"overlaid_settings\": None\n",
    "\n",
    "    },\n",
    "    \n",
    "    # \"truth_data_settings\" are settings used to control what truth data is recorded\n",
    "    # Supported truth_data_settings options:\n",
    "        # \"cartesian\": records # of chips, x, y, and radius information for each chip\n",
    "        # \"segmentation\": records segmentation data, which is dicolor images representing chip and non-chip regions\n",
    "    \"truth_data_settings\": \"cartesian\"\n",
    "    \n",
    "    \n",
    "    \n",
    "}"
   ]
  },
  {
   "cell_type": "code",
   "execution_count": 2,
   "id": "c1d7c2c9",
   "metadata": {},
   "outputs": [],
   "source": [
    "import dataset\n",
    "\n",
    "# size: number of images in the dataset you want to make\n",
    "size = 10\n",
    "\n",
    "# folder_name: name of the folder you want the dataset to go into\n",
    "# NOTE: this will DELETE the content of folders with the same name before writing data to it\n",
    "folder_name = \"test\"\n",
    "\n",
    "dataset = dataset.dataset(size = size, folder_name = folder_name, settings = settings)"
   ]
  },
  {
   "cell_type": "code",
   "execution_count": 3,
   "id": "584706ce",
   "metadata": {},
   "outputs": [
    {
     "ename": "AttributeError",
     "evalue": "'dataset' object has no attribute 'backgrounds'",
     "output_type": "error",
     "traceback": [
      "\u001b[1;31m---------------------------------------------------------------------------\u001b[0m",
      "\u001b[1;31mAttributeError\u001b[0m                            Traceback (most recent call last)",
      "\u001b[1;32m~\\AppData\\Local\\Temp\\ipykernel_19940\\2393907998.py\u001b[0m in \u001b[0;36m<module>\u001b[1;34m\u001b[0m\n\u001b[1;32m----> 1\u001b[1;33m \u001b[0mdataset\u001b[0m\u001b[1;33m.\u001b[0m\u001b[0mcreate_dataset\u001b[0m\u001b[1;33m(\u001b[0m\u001b[1;33m)\u001b[0m\u001b[1;33m\u001b[0m\u001b[1;33m\u001b[0m\u001b[0m\n\u001b[0m",
      "\u001b[1;32m~\\Desktop\\Active Insights\\Starting Projects\\Dataset-Creation\\Notebooks\\dataset.py\u001b[0m in \u001b[0;36mcreate_dataset\u001b[1;34m(self)\u001b[0m\n\u001b[0;32m     57\u001b[0m     \u001b[1;32mdef\u001b[0m \u001b[0mcreate_dataset\u001b[0m\u001b[1;33m(\u001b[0m\u001b[0mself\u001b[0m\u001b[1;33m)\u001b[0m\u001b[1;33m:\u001b[0m\u001b[1;33m\u001b[0m\u001b[1;33m\u001b[0m\u001b[0m\n\u001b[0;32m     58\u001b[0m         \u001b[1;31m# Get the background images\u001b[0m\u001b[1;33m\u001b[0m\u001b[1;33m\u001b[0m\u001b[0m\n\u001b[1;32m---> 59\u001b[1;33m         \u001b[0mself\u001b[0m\u001b[1;33m.\u001b[0m\u001b[0mget_background_images\u001b[0m\u001b[1;33m(\u001b[0m\u001b[1;33m)\u001b[0m\u001b[1;33m\u001b[0m\u001b[1;33m\u001b[0m\u001b[0m\n\u001b[0m\u001b[0;32m     60\u001b[0m \u001b[1;33m\u001b[0m\u001b[0m\n\u001b[0;32m     61\u001b[0m         \u001b[1;31m# Get the chip images\u001b[0m\u001b[1;33m\u001b[0m\u001b[1;33m\u001b[0m\u001b[0m\n",
      "\u001b[1;32m~\\Desktop\\Active Insights\\Starting Projects\\Dataset-Creation\\Notebooks\\dataset.py\u001b[0m in \u001b[0;36mget_background_images\u001b[1;34m(self)\u001b[0m\n\u001b[0;32m     85\u001b[0m         \u001b[1;31m# Get all the background images\u001b[0m\u001b[1;33m\u001b[0m\u001b[1;33m\u001b[0m\u001b[0m\n\u001b[0;32m     86\u001b[0m         \u001b[1;32mfor\u001b[0m \u001b[0mbackground_file\u001b[0m \u001b[1;32min\u001b[0m \u001b[0mos\u001b[0m\u001b[1;33m.\u001b[0m\u001b[0mlistdir\u001b[0m\u001b[1;33m(\u001b[0m\u001b[0mself\u001b[0m\u001b[1;33m.\u001b[0m\u001b[0mbackground_dir\u001b[0m\u001b[1;33m)\u001b[0m\u001b[1;33m:\u001b[0m\u001b[1;33m\u001b[0m\u001b[1;33m\u001b[0m\u001b[0m\n\u001b[1;32m---> 87\u001b[1;33m             \u001b[0mself\u001b[0m\u001b[1;33m.\u001b[0m\u001b[0mbackgrounds\u001b[0m\u001b[1;33m.\u001b[0m\u001b[0mappend\u001b[0m\u001b[1;33m(\u001b[0m\u001b[0mos\u001b[0m\u001b[1;33m.\u001b[0m\u001b[0mpath\u001b[0m\u001b[1;33m.\u001b[0m\u001b[0mjoin\u001b[0m\u001b[1;33m(\u001b[0m\u001b[0mself\u001b[0m\u001b[1;33m.\u001b[0m\u001b[0mbackground_dir\u001b[0m\u001b[1;33m,\u001b[0m \u001b[0mbackground_file\u001b[0m\u001b[1;33m)\u001b[0m\u001b[1;33m)\u001b[0m\u001b[1;33m\u001b[0m\u001b[1;33m\u001b[0m\u001b[0m\n\u001b[0m\u001b[0;32m     88\u001b[0m \u001b[1;33m\u001b[0m\u001b[0m\n\u001b[0;32m     89\u001b[0m     \u001b[1;32mdef\u001b[0m \u001b[0mget_chip_images\u001b[0m\u001b[1;33m(\u001b[0m\u001b[0mself\u001b[0m\u001b[1;33m)\u001b[0m\u001b[1;33m:\u001b[0m\u001b[1;33m\u001b[0m\u001b[1;33m\u001b[0m\u001b[0m\n",
      "\u001b[1;31mAttributeError\u001b[0m: 'dataset' object has no attribute 'backgrounds'"
     ]
    }
   ],
   "source": [
    "dataset.create_dataset()"
   ]
  },
  {
   "cell_type": "code",
   "execution_count": null,
   "id": "2e639cae",
   "metadata": {},
   "outputs": [],
   "source": []
  }
 ],
 "metadata": {
  "kernelspec": {
   "display_name": "Python 3 (ipykernel)",
   "language": "python",
   "name": "python3"
  },
  "language_info": {
   "codemirror_mode": {
    "name": "ipython",
    "version": 3
   },
   "file_extension": ".py",
   "mimetype": "text/x-python",
   "name": "python",
   "nbconvert_exporter": "python",
   "pygments_lexer": "ipython3",
   "version": "3.9.13"
  }
 },
 "nbformat": 4,
 "nbformat_minor": 5
}
