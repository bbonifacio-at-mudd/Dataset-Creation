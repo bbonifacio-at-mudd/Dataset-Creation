{
 "cells": [
  {
   "cell_type": "markdown",
   "id": "0117a5f8",
   "metadata": {},
   "source": [
    "# This Notebook controls the creation of datasets"
   ]
  },
  {
   "cell_type": "markdown",
   "id": "a19e7d7e",
   "metadata": {},
   "source": [
    "### The settings dictionary below controls the dataset being created. Read each setting to see what it does. As a note, the truth_data_settings don't do anything (currently), but they will once I know how the ML algorithms are validating their training. "
   ]
  },
  {
   "cell_type": "code",
   "execution_count": 1,
   "id": "18b8fad0",
   "metadata": {},
   "outputs": [],
   "source": [
    "settings = {\n",
    "    \n",
    "    # data settings control the data used in the creation of the dataset\n",
    "    \"data\": {\n",
    "        \n",
    "        # \"background\" controls which dataset is used for the background images\n",
    "        # Supported background options:\n",
    "            # \"Random\": the dataset of random images\n",
    "            # \"Walls\": the dataset of wall images\n",
    "            # \"Simple\": a dataset of very simple designs\n",
    "            # \"Desktop_Backgrounds\": a dataset of desktop backgrounds akin to the Bing daily wallpaper\n",
    "            # \"Landscape\": dataset of nature landscapes, akin to Bing daily wallpaper\n",
    "            # \"Blackjack_Best\": best blackjack images\n",
    "            #  etc...\n",
    "        \"background\": \"1000_Comprehensive\", \n",
    "\n",
    "\n",
    "        # \"use_all_background_images\": boolean. If set to true, we will simply place chips on each image and save them\n",
    "        \"use_all_background_images\": True, \n",
    "        \n",
    "        # \"objects\" controls which dataset is used for the object images\n",
    "        # Supported object options:\n",
    "            # \"CLeanedCroppedChips\": all the circle-cropped chips (~3700)\n",
    "            # \"Post2020_Cropped\": all the non-deprecated chips that have been introduced post-2020 (618)\n",
    "            # \"Post2010_Cropped\": all the non-deprecated chips that have been introduced post-2010 (113)\n",
    "        \"chips\": \"CLeanedCroppedChips\"\n",
    "        },\n",
    "        \n",
    "    # Placement settings control how the chips on the dataset are placed on the images\n",
    "    \"placement\": {\n",
    "        \n",
    "        # \"type\" is the type of dataset created\n",
    "        # Supported type options:\n",
    "            # \"singleton\": a single chip on the margin, guaranteed to not be cut off by the background margins\n",
    "            # \"multiple\": multiple chips on the image, guaranteed to not be cut off by the background margins\n",
    "            # \"stacked\": ??? - Ask George/Sam\n",
    "            # \"overlaid\": ??? - Ask George/Sam\n",
    "        \"type\": \"multiple\",\n",
    "        \n",
    "        # Below, the settings for each placement type are defined. You only need to define the settings for the placement \n",
    "        # type you are using. e.g., you only need to define the \"singleton\" settings if the \"type\" is \"singleton\". \n",
    "        # Having other types defined do not affect the program - they will be ignored. \n",
    "        \n",
    "        # \"singleton_settings\" are settings for making a \"singleton\" dataset\n",
    "        \"singleton_settings\": {\n",
    "            \n",
    "            # \"random_rotation\": Boolean for whether to rotate the chips or not\n",
    "            \"random_rotation\": True, \n",
    "            \n",
    "            # \"size_range\": Tuple for how big we want the chip with respect to the image's width. It is a proportion. \n",
    "            # The first value in the Tuple is the lower range, the second is the upper range. Sizes are chosen based on \n",
    "            # a uniform distribution between these two ranges. \n",
    "            \"size_range\": (0.05, 0.06), \n",
    "            }, \n",
    "        \n",
    "        # \"multiple_settings\" are settings used for making a \"multiple\" dataset\n",
    "        \"multiple_settings\": {\n",
    "            \n",
    "            # \"random_rotation\": Boolean for whether to rotate the chips or not\n",
    "            \"random_rotation\": True, \n",
    "            \n",
    "            # \"size_range\": Tuple for how big the chips are, see \"singleton_settings\"[\"size_range\"]\n",
    "            \"size_range\": (0.05, 0.06), \n",
    "            \n",
    "            # \"num_chips_range\": Tuple for how many chips there will be. It is an integer.\n",
    "            # The first value is the lower value, \n",
    "            # the second value is the upper value. Number of chips are chosen based on a uniform distribution\n",
    "            \"num_chips_range\": (7, 12), \n",
    "            \n",
    "            }, \n",
    "        \n",
    "        # \"stacked_settings\": Unsupported\n",
    "        \"stacked_settings\": None,\n",
    "        \n",
    "        # \"overlaid_settings\": Unsupported\n",
    "        \"overlaid_settings\": None\n",
    "\n",
    "        },\n",
    "    \n",
    "    # \"truth_data_settings\" are settings used to control what truth data is recorded\n",
    "    # Supported truth_data_settings options:\n",
    "        # \"cartesian\": records # of chips, x, y, and radius information for each chip\n",
    "        # \"segmentation\": records segmentation data, which is dicolor images representing chip and non-chip regions\n",
    "    \"truth_data_settings\": \"cartesian\"\n",
    "    \n",
    "}"
   ]
  },
  {
   "cell_type": "markdown",
   "id": "1422ebd2",
   "metadata": {},
   "source": [
    "## In the Cell below, we create our dataset object, which calls upon the dataset_class in lib. We specify the name of the dataset we want to create as well as the number of images we want in it. "
   ]
  },
  {
   "cell_type": "code",
   "execution_count": 4,
   "id": "c1d7c2c9",
   "metadata": {},
   "outputs": [],
   "source": [
    "import lib\n",
    "from lib.dataset_file import dataset_class\n",
    "\n",
    "# size: number of images in the dataset you want to make\n",
    "size = 1000\n",
    "\n",
    "# folder_name: name of the folder you want the dataset to go into\n",
    "# NOTE: this will DELETE the content of folders with the same name before writing data to it\n",
    "# NOTE: this folder will be created in /Dataset\n",
    "folder_name = \"1000_Comprehensive_Chip_Dataset\"\n",
    "\n",
    "dataset_object = dataset_class(size = size, folder_name = folder_name, settings = settings)"
   ]
  },
  {
   "cell_type": "markdown",
   "id": "4f18c234",
   "metadata": {},
   "source": [
    "## The cell below creates the dataset, whose progress is indicated by the loading bar. As a note, if you have edited any of the python files (like dataset_file.py), make sure you've restarted the kernel before running the cell below. "
   ]
  },
  {
   "cell_type": "code",
   "execution_count": 5,
   "id": "791bd67c",
   "metadata": {},
   "outputs": [
    {
     "name": "stderr",
     "output_type": "stream",
     "text": [
      "Loading Chips: 1it [00:00, 132.05it/s]\n"
     ]
    },
    {
     "name": "stdout",
     "output_type": "stream",
     "text": [
      "Dataset folder Dataset/1000_Comprehensive_Chip_Dataset already exists. Do you want to delete it and create a new one? (y/n)\n"
     ]
    },
    {
     "name": "stdin",
     "output_type": "stream",
     "text": [
      " y\n"
     ]
    },
    {
     "name": "stdout",
     "output_type": "stream",
     "text": [
      "Deleted Dataset/1000_Comprehensive_Chip_Dataset\n",
      "Created Dataset/1000_Comprehensive_Chip_Dataset\n"
     ]
    },
    {
     "name": "stderr",
     "output_type": "stream",
     "text": [
      "Creating Dataset: 1000it [02:46,  5.99it/s]\n"
     ]
    },
    {
     "name": "stdout",
     "output_type": "stream",
     "text": [
      "Done!\n"
     ]
    }
   ],
   "source": [
    "dataset_object.create_dataset()\n",
    "print(\"Done!\")"
   ]
  },
  {
   "cell_type": "code",
   "execution_count": 10,
   "id": "da6030b4",
   "metadata": {},
   "outputs": [
    {
     "name": "stdout",
     "output_type": "stream",
     "text": [
      "[]\n"
     ]
    }
   ],
   "source": [
    "print(dataset_object.truth_data)"
   ]
  },
  {
   "cell_type": "code",
   "execution_count": null,
   "id": "24757109-8a40-4546-8e69-7c95c54944a4",
   "metadata": {},
   "outputs": [],
   "source": []
  }
 ],
 "metadata": {
  "kernelspec": {
   "display_name": "Python 3 (ipykernel)",
   "language": "python",
   "name": "python3"
  },
  "language_info": {
   "codemirror_mode": {
    "name": "ipython",
    "version": 3
   },
   "file_extension": ".py",
   "mimetype": "text/x-python",
   "name": "python",
   "nbconvert_exporter": "python",
   "pygments_lexer": "ipython3",
   "version": "3.11.1"
  }
 },
 "nbformat": 4,
 "nbformat_minor": 5
}
