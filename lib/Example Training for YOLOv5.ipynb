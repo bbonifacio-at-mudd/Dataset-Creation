{
 "cells": [
  {
   "cell_type": "markdown",
   "id": "14f51ff4-793b-4c9e-9221-c45ce0b559a3",
   "metadata": {},
   "source": [
    "# This notebook, when uploaded to Google Collab, will train a YOLOv5 model with the data generated from the repo. "
   ]
  },
  {
   "attachments": {
    "55b7455e-12e1-4baf-aa79-710ae33abd96.png": {
     "image/png": "[encoded data removed]"
    }
   },
   "cell_type": "markdown",
   "id": "c8657ffb-ab2c-4e21-98a8-ebb69dec1911",
   "metadata": {},
   "source": [
    "Here is an example of the file structure necessary for this code to work. Note that this file structure is the same structure as the dataset created: \n",
    "\n",
    "![image.png](attachment:55b7455e-12e1-4baf-aa79-710ae33abd96.png)"
   ]
  },
  {
   "cell_type": "code",
   "execution_count": null,
   "id": "efe05b80-0413-4a5e-b804-e90d7e635f2b",
   "metadata": {},
   "outputs": [],
   "source": [
    "import torch\n",
    "from IPython.display import display\n",
    "from PIL import Image\n",
    "import os\n",
    "import yaml\n",
    "import pandas as pd"
   ]
  },
  {
   "cell_type": "code",
   "execution_count": null,
   "id": "f3136d3d-6075-48b2-b657-bc05b5d23f29",
   "metadata": {},
   "outputs": [],
   "source": [
    "data_dir = '/content/YOLO_test'\n",
    "\n",
    "data_yaml = dict(\n",
    "    train=f\"{data_dir}/images\",\n",
    "    val=f\"{data_dir}/images\",\n",
    "    nc=1,\n",
    "    names=['chip']\n",
    ")\n",
    "with open(f\"{data_dir}/data.yaml\", 'w') as yaml_file:\n",
    "    yaml.dump(data_yaml, yaml_file, default_flow_style=False)\n",
    "\n",
    "\n",
    "!git clone https://github.com/ultralytics/yolov5.git\n",
    "%cd yolov5\n",
    "!pip install -r requirements.txt\n",
    "\n",
    "\n",
    "!python train.py --img 640 --batch 4 --epochs 10 --data {data_dir}/data.yaml --weights yolov5s.pt --cache\n"
   ]
  },
  {
   "cell_type": "code",
   "execution_count": null,
   "id": "8323466f-7377-4ef9-8fe1-29cbb8e57132",
   "metadata": {},
   "outputs": [],
   "source": []
  }
 ],
 "metadata": {
  "kernelspec": {
   "display_name": "Python 3 (ipykernel)",
   "language": "python",
   "name": "python3"
  },
  "language_info": {
   "codemirror_mode": {
    "name": "ipython",
    "version": 3
   },
   "file_extension": ".py",
   "mimetype": "text/x-python",
   "name": "python",
   "nbconvert_exporter": "python",
   "pygments_lexer": "ipython3",
   "version": "3.11.1"
  }
 },
 "nbformat": 4,
 "nbformat_minor": 5
}
