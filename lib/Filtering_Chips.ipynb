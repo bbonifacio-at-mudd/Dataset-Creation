{
 "cells": [
  {
   "cell_type": "markdown",
   "id": "d40af8d4",
   "metadata": {},
   "source": [
    "# This notebook filters chips. Right now, it filters based on obsoleteness and also "
   ]
  },
  {
   "cell_type": "code",
   "execution_count": 19,
   "id": "ee121212",
   "metadata": {},
   "outputs": [],
   "source": [
    "import os\n",
    "import shutil\n",
    "import pandas as pd\n",
    "from datetime import datetime"
   ]
  },
  {
   "cell_type": "code",
   "execution_count": 20,
   "id": "d12601c4",
   "metadata": {},
   "outputs": [],
   "source": [
    "def process_subfolder(subfolder):\n",
    "    csv_file_path = os.path.join(subfolder, 'chipinfo.csv')\n",
    "    try:\n",
    "        df = pd.read_csv(csv_file_path, encoding='utf-8')  # Trying with utf-8 first\n",
    "    except UnicodeDecodeError:\n",
    "        df = pd.read_csv(csv_file_path, encoding='ISO-8859-1')  # If utf-8 fails, try with ISO-8859-1\n",
    "\n",
    "    # Filter the dataframe for chips that are not obsolete and were issued after January 1, 2020\n",
    "    df['issue_date'] = pd.to_datetime(df['chip_info'].str.extract(r'(\\d{4}-\\d{2}-\\d{2})')[0], errors='coerce')\n",
    "    df['is_obsolete'] = df['chip_info'].str.contains('Obsolete').fillna(False)\n",
    "    \n",
    "    df['has_valid_image'] = df['image_urls'].str.startswith(\"\"\"['http\"\"\")  # Check if 'image_urls' starts with 'http'\n",
    "\n",
    "    # Filter to include only rows that have a valid image URL and are not obsolete\n",
    "    filtered_df = df[(df['issue_date'] > '2010-01-01') & (~df['is_obsolete']) & (df['has_valid_image'])]\n",
    "    \n",
    "    # If there are valid chips, copy them and the CSV file\n",
    "    if not filtered_df.empty:\n",
    "        # Define the new subfolder path in the destination directory\n",
    "        new_subfolder = os.path.join(destination_directory, os.path.basename(subfolder))\n",
    "        os.makedirs(new_subfolder, exist_ok=True)\n",
    "        \n",
    "        # Copy the filtered CSV file\n",
    "        filtered_csv_path = os.path.join(new_subfolder, 'chipinfo.csv')\n",
    "        filtered_df.to_csv(filtered_csv_path, index=False)\n",
    "        \n",
    "        # Copy the corresponding images\n",
    "        for _, row in filtered_df.iterrows():\n",
    "            image_url = row['image_urls']\n",
    "            image_name = image_url.split('/')[-1]  # Extract the image name from the URL\n",
    "            image_name = image_name[:-2]\n",
    "            source_path = os.path.join(subfolder, image_name)\n",
    "            destination_path = os.path.join(new_subfolder, image_name)\n",
    "            if os.path.exists(source_path):\n",
    "                shutil.copy2(source_path, destination_path)"
   ]
  },
  {
   "cell_type": "code",
   "execution_count": 21,
   "id": "066c03c5",
   "metadata": {},
   "outputs": [],
   "source": [
    "def process_chips(main_directory, destination_directory):\n",
    "    # Process each subfolder in the main directory\n",
    "    for subfolder_name in os.listdir(main_directory):\n",
    "        subfolder_path = os.path.join(main_directory, subfolder_name)\n",
    "        if os.path.isdir(subfolder_path):\n",
    "            process_subfolder(subfolder_path)\n",
    "\n",
    "    print(f'Processed all subfolders and copied filtered chips to {destination_directory}')"
   ]
  },
  {
   "cell_type": "code",
   "execution_count": 22,
   "id": "a1dc3796",
   "metadata": {},
   "outputs": [],
   "source": [
    "main_directory = r'..\\Chips\\UncroppedChips'\n",
    "destination_directory = r'..\\Chips\\UncroppedPost2010'"
   ]
  },
  {
   "cell_type": "code",
   "execution_count": 23,
   "id": "e0122aa0",
   "metadata": {},
   "outputs": [
    {
     "name": "stdout",
     "output_type": "stream",
     "text": [
      "Processed all subfolders and copied filtered chips to ..\\Chips\\UncroppedPost2010\n"
     ]
    }
   ],
   "source": [
    "process_chips(main_directory, destination_directory)"
   ]
  },
  {
   "cell_type": "code",
   "execution_count": 24,
   "id": "72d86ed0",
   "metadata": {},
   "outputs": [
    {
     "name": "stdout",
     "output_type": "stream",
     "text": [
      "Done\n"
     ]
    }
   ],
   "source": [
    "print(\"Done\")"
   ]
  },
  {
   "cell_type": "code",
   "execution_count": null,
   "id": "48cf2b47",
   "metadata": {},
   "outputs": [],
   "source": []
  }
 ],
 "metadata": {
  "kernelspec": {
   "display_name": "Python 3 (ipykernel)",
   "language": "python",
   "name": "python3"
  },
  "language_info": {
   "codemirror_mode": {
    "name": "ipython",
    "version": 3
   },
   "file_extension": ".py",
   "mimetype": "text/x-python",
   "name": "python",
   "nbconvert_exporter": "python",
   "pygments_lexer": "ipython3",
   "version": "3.9.13"
  }
 },
 "nbformat": 4,
 "nbformat_minor": 5
}
